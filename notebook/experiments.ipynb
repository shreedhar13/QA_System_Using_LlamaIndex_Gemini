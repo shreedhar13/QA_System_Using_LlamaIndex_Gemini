{
 "cells": [
  {
   "cell_type": "code",
   "execution_count": 7,
   "metadata": {},
   "outputs": [
    {
     "data": {
      "text/plain": [
       "True"
      ]
     },
     "execution_count": 7,
     "metadata": {},
     "output_type": "execute_result"
    }
   ],
   "source": [
    "import os\n",
    "from dotenv import load_dotenv\n",
    "load_dotenv()"
   ]
  },
  {
   "cell_type": "markdown",
   "metadata": {},
   "source": [
    "## 1) Loading Googles API key"
   ]
  },
  {
   "cell_type": "code",
   "execution_count": 8,
   "metadata": {},
   "outputs": [],
   "source": [
    "google_api_key = os.getenv(\"GEMINI_API_KEY\")#using thise api key u can access any gen ai model of google,,,untilll free tier is completed OR amount is finished from account"
   ]
  },
  {
   "cell_type": "code",
   "execution_count": 9,
   "metadata": {},
   "outputs": [
    {
     "name": "stdout",
     "output_type": "stream",
     "text": [
      "api key found\n"
     ]
    }
   ],
   "source": [
    "if google_api_key == \"\" :\n",
    "    print('api key Not-found')\n",
    "else:\n",
    "    print('api key found')"
   ]
  },
  {
   "cell_type": "markdown",
   "metadata": {},
   "source": [
    "## 2) Importing Required Libraries"
   ]
  },
  {
   "cell_type": "code",
   "execution_count": 1,
   "metadata": {},
   "outputs": [
    {
     "name": "stderr",
     "output_type": "stream",
     "text": [
      "d:\\GENERATIVE-AI\\007_Projects\\002_QA_System_Using_Llama_Index_And_Gemini\\qa_env\\Lib\\site-packages\\tqdm\\auto.py:21: TqdmWarning: IProgress not found. Please update jupyter and ipywidgets. See https://ipywidgets.readthedocs.io/en/stable/user_install.html\n",
      "  from .autonotebook import tqdm as notebook_tqdm\n"
     ]
    }
   ],
   "source": [
    "from llama_index.core import SimpleDirectoryReader\n",
    "from llama_index.core import VectorStoreIndex\n",
    "from llama_index.llms.gemini import Gemini \n",
    "from IPython.display import Markdown, display \n",
    "from llama_index.core import ServiceContext \n",
    "from llama_index.core import StorageContext, load_index_from_storage \n",
    "import google.generativeai as genai \n",
    "from llama_index.embeddings.gemini import GeminiEmbedding\n"
   ]
  },
  {
   "cell_type": "markdown",
   "metadata": {},
   "source": [
    "- Llama index provides the key tools to augment your llm app with data\n",
    "  1) Data Ingestion: connect your existing data sources and data formats (3rd party API , PDF's , Documents , SQL ,NoSQL..etc) to use with a LLM model application\n",
    "  2) Data Indexing: store and index your data for different use cases.Integrate with downstream vector store and DB providers\n",
    "  3) Query Interface: provides query interface that accepts any input prompt over your data and returns a knowledge-augmented responses"
   ]
  },
  {
   "cell_type": "markdown",
   "metadata": {},
   "source": [
    "- Main purpose of Llama index is,**storing and retrieving vectors** \n",
    "- LangChain has many more functionality compare to this.ie; **chains and memory**.And used for developing end-to-end genai application.\n",
    "- So,u can Use  both to develop your application stronlgy...\n",
    "- but no need to separetly import llama index and langchain........bcz llama index has integrated with langchain......so,,just import llama index,,from this you can access langchain functionality wherever you want...........\n",
    "- llama index has support of langchain,ie;inside llama index there is a langchain functionality also,which we are going to access through llama index"
   ]
  },
  {
   "cell_type": "markdown",
   "metadata": {},
   "source": [
    "## 3) connect with Google gen ai models services"
   ]
  },
  {
   "cell_type": "code",
   "execution_count": 10,
   "metadata": {},
   "outputs": [],
   "source": [
    "genai.configure(api_key = google_api_key )\n",
    "#This genai alias for python SDK for accessing google's gemini models....and we setted up the api_key internally,,,\n",
    "#thus while accessing google gemini model , embedding model,,no need to write this_api key,,,,internally inferred"
   ]
  },
  {
   "cell_type": "code",
   "execution_count": 11,
   "metadata": {},
   "outputs": [
    {
     "name": "stdout",
     "output_type": "stream",
     "text": [
      "models/gemini-1.0-pro-latest\n",
      "models/gemini-1.0-pro\n",
      "models/gemini-pro\n",
      "models/gemini-1.0-pro-001\n",
      "models/gemini-1.0-pro-vision-latest\n",
      "models/gemini-pro-vision\n",
      "models/gemini-1.5-pro-latest\n",
      "models/gemini-1.5-pro-001\n",
      "models/gemini-1.5-pro\n",
      "models/gemini-1.5-pro-exp-0801\n",
      "models/gemini-1.5-flash-latest\n",
      "models/gemini-1.5-flash-001\n",
      "models/gemini-1.5-flash\n"
     ]
    }
   ],
   "source": [
    "for model in genai.list_models():\n",
    "    if 'generateContent' in model.supported_generation_methods:\n",
    "         print(model.name)\n",
    "#These are Generation based models"
   ]
  },
  {
   "cell_type": "markdown",
   "metadata": {},
   "source": [
    "## 4) Create Data Folder and add files on which you want to perform QA"
   ]
  },
  {
   "cell_type": "markdown",
   "metadata": {},
   "source": [
    "- I have added ML_Wikipedia.txt,in which 2329 words(12208 character are there) are there according to openai tokenizer..approx 4 character means 1 word\n",
    "- if you give this file to google tokenization then it will give you tokens inside this file,,,,,more or less token counts are nearer\n",
    "- Add any no and any kind of file you want,,,"
   ]
  },
  {
   "cell_type": "markdown",
   "metadata": {},
   "source": [
    "## 5) Load text present in all the files ,which are present in Data folder"
   ]
  },
  {
   "cell_type": "code",
   "execution_count": 4,
   "metadata": {},
   "outputs": [],
   "source": [
    "documents = SimpleDirectoryReader(\"../Data\")\n",
    "#i am inside notebook folder,and Data folder is present outside of this folder and inside of 002_QA.......\n",
    "#so from current folder (ie;when we are executing experiments.ipynb then we are in 'notebook' directory) come outside,,and select Data folder from it"
   ]
  },
  {
   "cell_type": "code",
   "execution_count": 8,
   "metadata": {},
   "outputs": [
    {
     "data": {
      "text/plain": [
       "[Document(id_='458acf2b-1243-4798-b6bd-8ef62822e80f', embedding=None, metadata={'file_path': 'd:\\\\GENERATIVE-AI\\\\007_Projects\\\\002_QA_System_Using_Llama_Index_And_Gemini\\\\notebook\\\\..\\\\Data\\\\ML_Wikipedia.txt', 'file_name': 'ML_Wikipedia.txt', 'file_type': 'text/plain', 'file_size': 12283, 'creation_date': '2024-07-31', 'last_modified_date': '2024-07-31'}, excluded_embed_metadata_keys=['file_name', 'file_type', 'file_size', 'creation_date', 'last_modified_date', 'last_accessed_date'], excluded_llm_metadata_keys=['file_name', 'file_type', 'file_size', 'creation_date', 'last_modified_date', 'last_accessed_date'], relationships={}, text='Machine learning (ML) is a field of study in artificial intelligence concerned with the development and study of statistical algorithms that can learn from data and generalize to unseen data and thus perform tasks without explicit instructions.[1] Recently, artificial neural networks have been able to surpass many previous approaches in performance.[2]\\r\\n\\r\\nML finds application in many fields, including natural language processing, computer vision, speech recognition, email filtering, agriculture, and medicine.[3][4] When applied to business problems, it is known under the name predictive analytics. Although not all machine learning is statistically based, computational statistics is an important source of the field\\'s methods.\\r\\n\\r\\nThe mathematical foundations of ML are provided by mathematical optimization (mathematical programming) methods. Data mining is a related (parallel) field of study, focusing on exploratory data analysis (EDA) through unsupervised learning.[6][7]\\r\\n\\r\\nFrom a theoretical viewpoint, probably approximately correct (PAC) learning provides a framework for describing machine learning.\\r\\n\\r\\nHistory\\r\\nSee also: Timeline of machine learning\\r\\nThe term machine learning was coined in 1959 by Arthur Samuel, an IBM employee and pioneer in the field of computer gaming and artificial intelligence.[8][9] The synonym self-teaching computers was also used in this time period.[10][11]\\r\\n\\r\\nAlthough the earliest machine learning model was introduced in the 1950s when Arthur Samuel invented a program that calculated the winning chance in checkers for each side, the history of machine learning roots back to decades of human desire and effort to study human cognitive processes.[12] In 1949, Canadian psychologist Donald Hebb published the book The Organization of Behavior, in which he introduced a theoretical neural structure formed by certain interactions among nerve cells.[13] Hebb\\'s model of neurons interacting with one another set a groundwork for how AIs and machine learning algorithms work under nodes, or artificial neurons used by computers to communicate data.[12] Other researchers who have studied human cognitive systems contributed to the modern machine learning technologies as well, including logician Walter Pitts and Warren McCulloch, who proposed the early mathematical models of neural networks to come up with algorithms that mirror human thought processes.[12]\\r\\n\\r\\nBy the early 1960s an experimental \"learning machine\" with punched tape memory, called Cybertron, had been developed by Raytheon Company to analyze sonar signals, electrocardiograms, and speech patterns using rudimentary reinforcement learning. It was repetitively \"trained\" by a human operator/teacher to recognize patterns and equipped with a \"goof\" button to cause it to reevaluate incorrect decisions.[14] A representative book on research into machine learning during the 1960s was Nilsson\\'s book on Learning Machines, dealing mostly with machine learning for pattern classification.[15] Interest related to pattern recognition continued into the 1970s, as described by Duda and Hart in 1973.[16] In 1981 a report was given on using teaching strategies so that an artificial neural network learns to recognize 40 characters (26 letters, 10 digits, and 4 special symbols) from a computer terminal.[17]\\r\\n\\r\\nTom M. Mitchell provided a widely quoted, more formal definition of the algorithms studied in the machine learning field: \"A computer program is said to learn from experience E with respect to some class of tasks T and performance measure P if its performance at tasks in T, as measured by P, improves with experience E.\"[18] This definition of the tasks in which machine learning is concerned offers a fundamentally operational definition rather than defining the field in cognitive terms. This follows Alan Turing\\'s proposal in his paper \"Computing Machinery and Intelligence\", in which the question \"Can machines think?\" is replaced with the question \"Can machines do what we (as thinking entities) can do?\".[19]\\r\\n\\r\\nAs a scientific endeavor, machine learning grew out of the quest for artificial intelligence (AI). In the early days of AI as an academic discipline, some researchers were interested in having machines learn from data. They attempted to approach the problem with various symbolic methods, as well as what were then termed \"neural networks\"; these were mostly perceptrons and other models that were later found to be reinventions of the generalized linear models of statistics.[22] Probabilistic reasoning was also employed, especially in automated medical diagnosis.[23]:\\u200a488\\u200a\\r\\n\\r\\nHowever, an increasing emphasis on the logical, knowledge-based approach caused a rift between AI and machine learning. Probabilistic systems were plagued by theoretical and practical problems of data acquisition and representation.[23]:\\u200a488\\u200a By 1980, expert systems had come to dominate AI, and statistics was out of favor.[24] Work on symbolic/knowledge-based learning did continue within AI, leading to inductive logic programming(ILP), but the more statistical line of research was now outside the field of AI proper, in pattern recognition and information retrieval.[23]:\\u200a708–710,\\u200a755\\u200a Neural networks research had been abandoned by AI and computer science around the same time. This line, too, was continued outside the AI/CS field, as \"connectionism\", by researchers from other disciplines including Hopfield, Rumelhart, and Hinton. Their main success came in the mid-1980s with the reinvention of backpropagation.[23]:\\u200a25\\u200a\\r\\n\\r\\nMachine learning (ML), reorganized and recognized as its own field, started to flourish in the 1990s. The field changed its goal from achieving artificial intelligence to tackling solvable problems of a practical nature. It shifted focus away from the symbolic approaches it had inherited from AI, and toward methods and models borrowed from statistics, fuzzy logic, and probability theory.[24]\\r\\n\\r\\nData compression\\r\\nThis section is an excerpt from Data compression § Machine learning.[edit]\\r\\nThere is a close connection between machine learning and compression. A system that predicts the posterior probabilities of a sequence given its entire history can be used for optimal data compression (by using arithmetic coding on the output distribution). Conversely, an optimal compressor can be used for prediction (by finding the symbol that compresses best, given the previous history). This equivalence has been used as a justification for using data compression as a benchmark for \"general intelligence\".[25][26][27]\\r\\n\\r\\nAn alternative view can show compression algorithms implicitly map strings into implicit feature space vectors, and compression-based similarity measures compute similarity within these feature spaces. For each compressor C(.) we define an associated vector space ℵ, such that C(.) maps an input string x, corresponding to the vector norm ||~x||. An exhaustive examination of the feature spaces underlying all compression algorithms is precluded by space; instead, feature vectors chooses to examine three representative lossless compression methods, LZW, LZ77, and PPM.[28]\\r\\n\\r\\nAccording to AIXI theory, a connection more directly explained in Hutter Prize, the best possible compression of x is the smallest possible software that generates x. For example, in that model, a zip file\\'s compressed size includes both the zip file and the unzipping software, since you can not unzip it without both, but there may be an even smaller combined form.\\r\\n\\r\\nExamples of AI-powered audio/video compression software include NVIDIA Maxine, AIVC.[29] Examples of software that can perform AI-powered image compression include OpenCV, TensorFlow, MATLAB\\'s Image Processing Toolbox (IPT) and High-Fidelity Generative Image Compression.[30]\\r\\n\\r\\nIn unsupervised machine learning, k-means clustering can be utilized to compress data by grouping similar data points into clusters. This technique simplifies handling extensive datasets that lack predefined labels and finds widespread use in fields such as image compression.[31]\\r\\n\\r\\nData compression aims to reduce the size of data files, enhancing storage efficiency and speeding up data transmission. K-means clustering, an unsupervised machine learning algorithm, is employed to partition a dataset into a specified number of clusters, k, each represented by the centroid of its points. This process condenses extensive datasets into a more compact set of representative points. Particularly beneficial in image and signal processing, k-means clustering aids in data reduction by replacing groups of data points with their centroids, thereby preserving the core information of the original data while significantly decreasing the required storage space.[32]\\r\\n\\r\\nLarge language models (LLMs) are also capable of lossless data compression, as demonstrated by DeepMind\\'s research with the Chinchilla 70B model. Developed by DeepMind, Chinchilla 70B effectively compressed data, outperforming conventional methods such as Portable Network Graphics (PNG) for images and Free Lossless Audio Codec (FLAC) for audio. It achieved compression of image and audio data to 43.4% and 16.4% of their original sizes, respectively.[33]\\r\\n\\r\\nData mining\\r\\nMachine learning and data mining often employ the same methods and overlap significantly, but while machine learning focuses on prediction, based on known properties learned from the training data, data mining focuses on the discovery of (previously) unknown properties in the data (this is the analysis step of knowledge discovery in databases). Data mining uses many machine learning methods, but with different goals; on the other hand, machine learning also employs data mining methods as \"unsupervised learning\" or as a preprocessing step to improve learner accuracy. Much of the confusion between these two research communities (which do often have separate conferences and separate journals, ECML PKDD being a major exception) comes from the basic assumptions they work with: in machine learning, performance is usually evaluated with respect to the ability to reproduce known knowledge, while in knowledge discovery and data mining (KDD) the key task is the discovery of previously unknown knowledge. Evaluated with respect to known knowledge, an uninformed (unsupervised) method will easily be outperformed by other supervised methods, while in a typical KDD task, supervised methods cannot be used due to the unavailability of training data.\\r\\n\\r\\nMachine learning also has intimate ties to optimization: Many learning problems are formulated as minimization of some loss function on a training set of examples. Loss functions express the discrepancy between the predictions of the model being trained and the actual problem instances (for example, in classification, one wants to assign a label to instances, and models are trained to correctly predict the preassigned labels of a set of examples).[34]\\r\\n\\r\\n\\r\\nMachine learning and statistics are closely related fields in terms of methods, but distinct in their principal goal: statistics draws population inferences from a sample, while machine learning finds generalizable predictive patterns.[35] According to Michael I. Jordan, the ideas of machine learning, from methodological principles to theoretical tools, have had a long pre-history in statistics.[36] He also suggested the term data science as a placeholder to call the overall field.[36]\\r\\n\\r\\nConventional statistical analyses require the a priori selection of a model most suitable for the study data set. In addition, only significant or theoretically relevant variables based on previous experience are included for analysis. In contrast, machine learning is not built on a pre-structured model; rather, the data shape the model by detecting underlying patterns. The more variables (input) used to train the model, the more accurate the ultimate model will be.[37]\\r\\n\\r\\nLeo Breiman distinguished two statistical modeling paradigms: data model and algorithmic model,[38] wherein \"algorithmic model\" means more or less the machine learning algorithms like Random Forest.\\r\\n\\r\\nSome statisticians have adopted methods from machine learning, leading to a combined field that they call statistical learning.[39]', mimetype='text/plain', start_char_idx=None, end_char_idx=None, text_template='{metadata_str}\\n\\n{content}', metadata_template='{key}: {value}', metadata_seperator='\\n')]"
      ]
     },
     "execution_count": 8,
     "metadata": {},
     "output_type": "execute_result"
    }
   ],
   "source": [
    "doc = documents.load_data()\n",
    "doc"
   ]
  },
  {
   "cell_type": "code",
   "execution_count": 9,
   "metadata": {},
   "outputs": [
    {
     "data": {
      "text/plain": [
       "Document(id_='458acf2b-1243-4798-b6bd-8ef62822e80f', embedding=None, metadata={'file_path': 'd:\\\\GENERATIVE-AI\\\\007_Projects\\\\002_QA_System_Using_Llama_Index_And_Gemini\\\\notebook\\\\..\\\\Data\\\\ML_Wikipedia.txt', 'file_name': 'ML_Wikipedia.txt', 'file_type': 'text/plain', 'file_size': 12283, 'creation_date': '2024-07-31', 'last_modified_date': '2024-07-31'}, excluded_embed_metadata_keys=['file_name', 'file_type', 'file_size', 'creation_date', 'last_modified_date', 'last_accessed_date'], excluded_llm_metadata_keys=['file_name', 'file_type', 'file_size', 'creation_date', 'last_modified_date', 'last_accessed_date'], relationships={}, text='Machine learning (ML) is a field of study in artificial intelligence concerned with the development and study of statistical algorithms that can learn from data and generalize to unseen data and thus perform tasks without explicit instructions.[1] Recently, artificial neural networks have been able to surpass many previous approaches in performance.[2]\\r\\n\\r\\nML finds application in many fields, including natural language processing, computer vision, speech recognition, email filtering, agriculture, and medicine.[3][4] When applied to business problems, it is known under the name predictive analytics. Although not all machine learning is statistically based, computational statistics is an important source of the field\\'s methods.\\r\\n\\r\\nThe mathematical foundations of ML are provided by mathematical optimization (mathematical programming) methods. Data mining is a related (parallel) field of study, focusing on exploratory data analysis (EDA) through unsupervised learning.[6][7]\\r\\n\\r\\nFrom a theoretical viewpoint, probably approximately correct (PAC) learning provides a framework for describing machine learning.\\r\\n\\r\\nHistory\\r\\nSee also: Timeline of machine learning\\r\\nThe term machine learning was coined in 1959 by Arthur Samuel, an IBM employee and pioneer in the field of computer gaming and artificial intelligence.[8][9] The synonym self-teaching computers was also used in this time period.[10][11]\\r\\n\\r\\nAlthough the earliest machine learning model was introduced in the 1950s when Arthur Samuel invented a program that calculated the winning chance in checkers for each side, the history of machine learning roots back to decades of human desire and effort to study human cognitive processes.[12] In 1949, Canadian psychologist Donald Hebb published the book The Organization of Behavior, in which he introduced a theoretical neural structure formed by certain interactions among nerve cells.[13] Hebb\\'s model of neurons interacting with one another set a groundwork for how AIs and machine learning algorithms work under nodes, or artificial neurons used by computers to communicate data.[12] Other researchers who have studied human cognitive systems contributed to the modern machine learning technologies as well, including logician Walter Pitts and Warren McCulloch, who proposed the early mathematical models of neural networks to come up with algorithms that mirror human thought processes.[12]\\r\\n\\r\\nBy the early 1960s an experimental \"learning machine\" with punched tape memory, called Cybertron, had been developed by Raytheon Company to analyze sonar signals, electrocardiograms, and speech patterns using rudimentary reinforcement learning. It was repetitively \"trained\" by a human operator/teacher to recognize patterns and equipped with a \"goof\" button to cause it to reevaluate incorrect decisions.[14] A representative book on research into machine learning during the 1960s was Nilsson\\'s book on Learning Machines, dealing mostly with machine learning for pattern classification.[15] Interest related to pattern recognition continued into the 1970s, as described by Duda and Hart in 1973.[16] In 1981 a report was given on using teaching strategies so that an artificial neural network learns to recognize 40 characters (26 letters, 10 digits, and 4 special symbols) from a computer terminal.[17]\\r\\n\\r\\nTom M. Mitchell provided a widely quoted, more formal definition of the algorithms studied in the machine learning field: \"A computer program is said to learn from experience E with respect to some class of tasks T and performance measure P if its performance at tasks in T, as measured by P, improves with experience E.\"[18] This definition of the tasks in which machine learning is concerned offers a fundamentally operational definition rather than defining the field in cognitive terms. This follows Alan Turing\\'s proposal in his paper \"Computing Machinery and Intelligence\", in which the question \"Can machines think?\" is replaced with the question \"Can machines do what we (as thinking entities) can do?\".[19]\\r\\n\\r\\nAs a scientific endeavor, machine learning grew out of the quest for artificial intelligence (AI). In the early days of AI as an academic discipline, some researchers were interested in having machines learn from data. They attempted to approach the problem with various symbolic methods, as well as what were then termed \"neural networks\"; these were mostly perceptrons and other models that were later found to be reinventions of the generalized linear models of statistics.[22] Probabilistic reasoning was also employed, especially in automated medical diagnosis.[23]:\\u200a488\\u200a\\r\\n\\r\\nHowever, an increasing emphasis on the logical, knowledge-based approach caused a rift between AI and machine learning. Probabilistic systems were plagued by theoretical and practical problems of data acquisition and representation.[23]:\\u200a488\\u200a By 1980, expert systems had come to dominate AI, and statistics was out of favor.[24] Work on symbolic/knowledge-based learning did continue within AI, leading to inductive logic programming(ILP), but the more statistical line of research was now outside the field of AI proper, in pattern recognition and information retrieval.[23]:\\u200a708–710,\\u200a755\\u200a Neural networks research had been abandoned by AI and computer science around the same time. This line, too, was continued outside the AI/CS field, as \"connectionism\", by researchers from other disciplines including Hopfield, Rumelhart, and Hinton. Their main success came in the mid-1980s with the reinvention of backpropagation.[23]:\\u200a25\\u200a\\r\\n\\r\\nMachine learning (ML), reorganized and recognized as its own field, started to flourish in the 1990s. The field changed its goal from achieving artificial intelligence to tackling solvable problems of a practical nature. It shifted focus away from the symbolic approaches it had inherited from AI, and toward methods and models borrowed from statistics, fuzzy logic, and probability theory.[24]\\r\\n\\r\\nData compression\\r\\nThis section is an excerpt from Data compression § Machine learning.[edit]\\r\\nThere is a close connection between machine learning and compression. A system that predicts the posterior probabilities of a sequence given its entire history can be used for optimal data compression (by using arithmetic coding on the output distribution). Conversely, an optimal compressor can be used for prediction (by finding the symbol that compresses best, given the previous history). This equivalence has been used as a justification for using data compression as a benchmark for \"general intelligence\".[25][26][27]\\r\\n\\r\\nAn alternative view can show compression algorithms implicitly map strings into implicit feature space vectors, and compression-based similarity measures compute similarity within these feature spaces. For each compressor C(.) we define an associated vector space ℵ, such that C(.) maps an input string x, corresponding to the vector norm ||~x||. An exhaustive examination of the feature spaces underlying all compression algorithms is precluded by space; instead, feature vectors chooses to examine three representative lossless compression methods, LZW, LZ77, and PPM.[28]\\r\\n\\r\\nAccording to AIXI theory, a connection more directly explained in Hutter Prize, the best possible compression of x is the smallest possible software that generates x. For example, in that model, a zip file\\'s compressed size includes both the zip file and the unzipping software, since you can not unzip it without both, but there may be an even smaller combined form.\\r\\n\\r\\nExamples of AI-powered audio/video compression software include NVIDIA Maxine, AIVC.[29] Examples of software that can perform AI-powered image compression include OpenCV, TensorFlow, MATLAB\\'s Image Processing Toolbox (IPT) and High-Fidelity Generative Image Compression.[30]\\r\\n\\r\\nIn unsupervised machine learning, k-means clustering can be utilized to compress data by grouping similar data points into clusters. This technique simplifies handling extensive datasets that lack predefined labels and finds widespread use in fields such as image compression.[31]\\r\\n\\r\\nData compression aims to reduce the size of data files, enhancing storage efficiency and speeding up data transmission. K-means clustering, an unsupervised machine learning algorithm, is employed to partition a dataset into a specified number of clusters, k, each represented by the centroid of its points. This process condenses extensive datasets into a more compact set of representative points. Particularly beneficial in image and signal processing, k-means clustering aids in data reduction by replacing groups of data points with their centroids, thereby preserving the core information of the original data while significantly decreasing the required storage space.[32]\\r\\n\\r\\nLarge language models (LLMs) are also capable of lossless data compression, as demonstrated by DeepMind\\'s research with the Chinchilla 70B model. Developed by DeepMind, Chinchilla 70B effectively compressed data, outperforming conventional methods such as Portable Network Graphics (PNG) for images and Free Lossless Audio Codec (FLAC) for audio. It achieved compression of image and audio data to 43.4% and 16.4% of their original sizes, respectively.[33]\\r\\n\\r\\nData mining\\r\\nMachine learning and data mining often employ the same methods and overlap significantly, but while machine learning focuses on prediction, based on known properties learned from the training data, data mining focuses on the discovery of (previously) unknown properties in the data (this is the analysis step of knowledge discovery in databases). Data mining uses many machine learning methods, but with different goals; on the other hand, machine learning also employs data mining methods as \"unsupervised learning\" or as a preprocessing step to improve learner accuracy. Much of the confusion between these two research communities (which do often have separate conferences and separate journals, ECML PKDD being a major exception) comes from the basic assumptions they work with: in machine learning, performance is usually evaluated with respect to the ability to reproduce known knowledge, while in knowledge discovery and data mining (KDD) the key task is the discovery of previously unknown knowledge. Evaluated with respect to known knowledge, an uninformed (unsupervised) method will easily be outperformed by other supervised methods, while in a typical KDD task, supervised methods cannot be used due to the unavailability of training data.\\r\\n\\r\\nMachine learning also has intimate ties to optimization: Many learning problems are formulated as minimization of some loss function on a training set of examples. Loss functions express the discrepancy between the predictions of the model being trained and the actual problem instances (for example, in classification, one wants to assign a label to instances, and models are trained to correctly predict the preassigned labels of a set of examples).[34]\\r\\n\\r\\n\\r\\nMachine learning and statistics are closely related fields in terms of methods, but distinct in their principal goal: statistics draws population inferences from a sample, while machine learning finds generalizable predictive patterns.[35] According to Michael I. Jordan, the ideas of machine learning, from methodological principles to theoretical tools, have had a long pre-history in statistics.[36] He also suggested the term data science as a placeholder to call the overall field.[36]\\r\\n\\r\\nConventional statistical analyses require the a priori selection of a model most suitable for the study data set. In addition, only significant or theoretically relevant variables based on previous experience are included for analysis. In contrast, machine learning is not built on a pre-structured model; rather, the data shape the model by detecting underlying patterns. The more variables (input) used to train the model, the more accurate the ultimate model will be.[37]\\r\\n\\r\\nLeo Breiman distinguished two statistical modeling paradigms: data model and algorithmic model,[38] wherein \"algorithmic model\" means more or less the machine learning algorithms like Random Forest.\\r\\n\\r\\nSome statisticians have adopted methods from machine learning, leading to a combined field that they call statistical learning.[39]', mimetype='text/plain', start_char_idx=None, end_char_idx=None, text_template='{metadata_str}\\n\\n{content}', metadata_template='{key}: {value}', metadata_seperator='\\n')"
      ]
     },
     "execution_count": 9,
     "metadata": {},
     "output_type": "execute_result"
    }
   ],
   "source": [
    "doc[0]"
   ]
  },
  {
   "cell_type": "code",
   "execution_count": 10,
   "metadata": {},
   "outputs": [
    {
     "name": "stdout",
     "output_type": "stream",
     "text": [
      "Machine learning (ML) is a field of study in artificial intelligence concerned with the development and study of statistical algorithms that can learn from data and generalize to unseen data and thus perform tasks without explicit instructions.[1] Recently, artificial neural networks have been able to surpass many previous approaches in performance.[2]\n",
      "\n",
      "ML finds application in many fields, including natural language processing, computer vision, speech recognition, email filtering, agriculture, and medicine.[3][4] When applied to business problems, it is known under the name predictive analytics. Although not all machine learning is statistically based, computational statistics is an important source of the field's methods.\n",
      "\n",
      "The mathematical foundations of ML are provided by mathematical optimization (mathematical programming) methods. Data mining is a related (parallel) field of study, focusing on exploratory data analysis (EDA) through unsupervised learning.[6][7]\n",
      "\n",
      "From a theoretical viewpoint, probably approximately correct (PAC) learning provides a framework for describing machine learning.\n",
      "\n",
      "History\n",
      "See also: Timeline of machine learning\n",
      "The term machine learning was coined in 1959 by Arthur Samuel, an IBM employee and pioneer in the field of computer gaming and artificial intelligence.[8][9] The synonym self-teaching computers was also used in this time period.[10][11]\n",
      "\n",
      "Although the earliest machine learning model was introduced in the 1950s when Arthur Samuel invented a program that calculated the winning chance in checkers for each side, the history of machine learning roots back to decades of human desire and effort to study human cognitive processes.[12] In 1949, Canadian psychologist Donald Hebb published the book The Organization of Behavior, in which he introduced a theoretical neural structure formed by certain interactions among nerve cells.[13] Hebb's model of neurons interacting with one another set a groundwork for how AIs and machine learning algorithms work under nodes, or artificial neurons used by computers to communicate data.[12] Other researchers who have studied human cognitive systems contributed to the modern machine learning technologies as well, including logician Walter Pitts and Warren McCulloch, who proposed the early mathematical models of neural networks to come up with algorithms that mirror human thought processes.[12]\n",
      "\n",
      "By the early 1960s an experimental \"learning machine\" with punched tape memory, called Cybertron, had been developed by Raytheon Company to analyze sonar signals, electrocardiograms, and speech patterns using rudimentary reinforcement learning. It was repetitively \"trained\" by a human operator/teacher to recognize patterns and equipped with a \"goof\" button to cause it to reevaluate incorrect decisions.[14] A representative book on research into machine learning during the 1960s was Nilsson's book on Learning Machines, dealing mostly with machine learning for pattern classification.[15] Interest related to pattern recognition continued into the 1970s, as described by Duda and Hart in 1973.[16] In 1981 a report was given on using teaching strategies so that an artificial neural network learns to recognize 40 characters (26 letters, 10 digits, and 4 special symbols) from a computer terminal.[17]\n",
      "\n",
      "Tom M. Mitchell provided a widely quoted, more formal definition of the algorithms studied in the machine learning field: \"A computer program is said to learn from experience E with respect to some class of tasks T and performance measure P if its performance at tasks in T, as measured by P, improves with experience E.\"[18] This definition of the tasks in which machine learning is concerned offers a fundamentally operational definition rather than defining the field in cognitive terms. This follows Alan Turing's proposal in his paper \"Computing Machinery and Intelligence\", in which the question \"Can machines think?\" is replaced with the question \"Can machines do what we (as thinking entities) can do?\".[19]\n",
      "\n",
      "As a scientific endeavor, machine learning grew out of the quest for artificial intelligence (AI). In the early days of AI as an academic discipline, some researchers were interested in having machines learn from data. They attempted to approach the problem with various symbolic methods, as well as what were then termed \"neural networks\"; these were mostly perceptrons and other models that were later found to be reinventions of the generalized linear models of statistics.[22] Probabilistic reasoning was also employed, especially in automated medical diagnosis.[23]: 488 \n",
      "\n",
      "However, an increasing emphasis on the logical, knowledge-based approach caused a rift between AI and machine learning. Probabilistic systems were plagued by theoretical and practical problems of data acquisition and representation.[23]: 488  By 1980, expert systems had come to dominate AI, and statistics was out of favor.[24] Work on symbolic/knowledge-based learning did continue within AI, leading to inductive logic programming(ILP), but the more statistical line of research was now outside the field of AI proper, in pattern recognition and information retrieval.[23]: 708–710, 755  Neural networks research had been abandoned by AI and computer science around the same time. This line, too, was continued outside the AI/CS field, as \"connectionism\", by researchers from other disciplines including Hopfield, Rumelhart, and Hinton. Their main success came in the mid-1980s with the reinvention of backpropagation.[23]: 25 \n",
      "\n",
      "Machine learning (ML), reorganized and recognized as its own field, started to flourish in the 1990s. The field changed its goal from achieving artificial intelligence to tackling solvable problems of a practical nature. It shifted focus away from the symbolic approaches it had inherited from AI, and toward methods and models borrowed from statistics, fuzzy logic, and probability theory.[24]\n",
      "\n",
      "Data compression\n",
      "This section is an excerpt from Data compression § Machine learning.[edit]\n",
      "There is a close connection between machine learning and compression. A system that predicts the posterior probabilities of a sequence given its entire history can be used for optimal data compression (by using arithmetic coding on the output distribution). Conversely, an optimal compressor can be used for prediction (by finding the symbol that compresses best, given the previous history). This equivalence has been used as a justification for using data compression as a benchmark for \"general intelligence\".[25][26][27]\n",
      "\n",
      "An alternative view can show compression algorithms implicitly map strings into implicit feature space vectors, and compression-based similarity measures compute similarity within these feature spaces. For each compressor C(.) we define an associated vector space ℵ, such that C(.) maps an input string x, corresponding to the vector norm ||~x||. An exhaustive examination of the feature spaces underlying all compression algorithms is precluded by space; instead, feature vectors chooses to examine three representative lossless compression methods, LZW, LZ77, and PPM.[28]\n",
      "\n",
      "According to AIXI theory, a connection more directly explained in Hutter Prize, the best possible compression of x is the smallest possible software that generates x. For example, in that model, a zip file's compressed size includes both the zip file and the unzipping software, since you can not unzip it without both, but there may be an even smaller combined form.\n",
      "\n",
      "Examples of AI-powered audio/video compression software include NVIDIA Maxine, AIVC.[29] Examples of software that can perform AI-powered image compression include OpenCV, TensorFlow, MATLAB's Image Processing Toolbox (IPT) and High-Fidelity Generative Image Compression.[30]\n",
      "\n",
      "In unsupervised machine learning, k-means clustering can be utilized to compress data by grouping similar data points into clusters. This technique simplifies handling extensive datasets that lack predefined labels and finds widespread use in fields such as image compression.[31]\n",
      "\n",
      "Data compression aims to reduce the size of data files, enhancing storage efficiency and speeding up data transmission. K-means clustering, an unsupervised machine learning algorithm, is employed to partition a dataset into a specified number of clusters, k, each represented by the centroid of its points. This process condenses extensive datasets into a more compact set of representative points. Particularly beneficial in image and signal processing, k-means clustering aids in data reduction by replacing groups of data points with their centroids, thereby preserving the core information of the original data while significantly decreasing the required storage space.[32]\n",
      "\n",
      "Large language models (LLMs) are also capable of lossless data compression, as demonstrated by DeepMind's research with the Chinchilla 70B model. Developed by DeepMind, Chinchilla 70B effectively compressed data, outperforming conventional methods such as Portable Network Graphics (PNG) for images and Free Lossless Audio Codec (FLAC) for audio. It achieved compression of image and audio data to 43.4% and 16.4% of their original sizes, respectively.[33]\n",
      "\n",
      "Data mining\n",
      "Machine learning and data mining often employ the same methods and overlap significantly, but while machine learning focuses on prediction, based on known properties learned from the training data, data mining focuses on the discovery of (previously) unknown properties in the data (this is the analysis step of knowledge discovery in databases). Data mining uses many machine learning methods, but with different goals; on the other hand, machine learning also employs data mining methods as \"unsupervised learning\" or as a preprocessing step to improve learner accuracy. Much of the confusion between these two research communities (which do often have separate conferences and separate journals, ECML PKDD being a major exception) comes from the basic assumptions they work with: in machine learning, performance is usually evaluated with respect to the ability to reproduce known knowledge, while in knowledge discovery and data mining (KDD) the key task is the discovery of previously unknown knowledge. Evaluated with respect to known knowledge, an uninformed (unsupervised) method will easily be outperformed by other supervised methods, while in a typical KDD task, supervised methods cannot be used due to the unavailability of training data.\n",
      "\n",
      "Machine learning also has intimate ties to optimization: Many learning problems are formulated as minimization of some loss function on a training set of examples. Loss functions express the discrepancy between the predictions of the model being trained and the actual problem instances (for example, in classification, one wants to assign a label to instances, and models are trained to correctly predict the preassigned labels of a set of examples).[34]\n",
      "\n",
      "\n",
      "Machine learning and statistics are closely related fields in terms of methods, but distinct in their principal goal: statistics draws population inferences from a sample, while machine learning finds generalizable predictive patterns.[35] According to Michael I. Jordan, the ideas of machine learning, from methodological principles to theoretical tools, have had a long pre-history in statistics.[36] He also suggested the term data science as a placeholder to call the overall field.[36]\n",
      "\n",
      "Conventional statistical analyses require the a priori selection of a model most suitable for the study data set. In addition, only significant or theoretically relevant variables based on previous experience are included for analysis. In contrast, machine learning is not built on a pre-structured model; rather, the data shape the model by detecting underlying patterns. The more variables (input) used to train the model, the more accurate the ultimate model will be.[37]\n",
      "\n",
      "Leo Breiman distinguished two statistical modeling paradigms: data model and algorithmic model,[38] wherein \"algorithmic model\" means more or less the machine learning algorithms like Random Forest.\n",
      "\n",
      "Some statisticians have adopted methods from machine learning, leading to a combined field that they call statistical learning.[39]\n"
     ]
    }
   ],
   "source": [
    "print(doc[0].text)"
   ]
  },
  {
   "cell_type": "markdown",
   "metadata": {},
   "source": [
    "## 6) partition Above Data into chunks and perform embeddings on each chunk and store it in local vectorstore"
   ]
  },
  {
   "cell_type": "markdown",
   "metadata": {},
   "source": [
    "- models/text-embedding-004 \n",
    "- models/embedding-001\n",
    "- these 2 embedding models we have...\n",
    "- use any one,,,these are free of cost,i will use latest one......text-emnedding-004"
   ]
  },
  {
   "cell_type": "code",
   "execution_count": 11,
   "metadata": {},
   "outputs": [],
   "source": [
    "gemini_embed_model = GeminiEmbedding(model_name='models/text-embedding-004')#Internally access the API (google_api_key)"
   ]
  },
  {
   "cell_type": "code",
   "execution_count": 12,
   "metadata": {},
   "outputs": [
    {
     "data": {
      "text/plain": [
       "GeminiEmbedding(model_name='models/text-embedding-004', embed_batch_size=10, callback_manager=<llama_index.core.callbacks.base.CallbackManager object at 0x00000192CD4F0050>, num_workers=None, title=None, task_type='retrieval_document', api_key=None)"
      ]
     },
     "execution_count": 12,
     "metadata": {},
     "output_type": "execute_result"
    }
   ],
   "source": [
    "gemini_embed_model"
   ]
  },
  {
   "cell_type": "code",
   "execution_count": 13,
   "metadata": {},
   "outputs": [],
   "source": [
    "# import google.generativeai as genai -> accessing gemini models through python SDK...python library\n",
    "# from llama_index.llms.gemini import Gemini -> accessing gemini model through llama index frame work,which internally has this python SDK implementation.\n",
    "#Both are same thing,,ie;import google.generativeai as genai this is python SDk.through which u can access gemini\n",
    "#from llama_index.llms.gemini import Gemini , this  llama index also has this python SDk,,which internally uses this SDK to call gemini\n",
    "#You can use any one of them,both are same only,,,,,,,,,,,"
   ]
  },
  {
   "cell_type": "code",
   "execution_count": 14,
   "metadata": {},
   "outputs": [],
   "source": [
    "gemini_pro_model = Gemini(model = 'models/gemini-pro',api_key = google_api_key )"
   ]
  },
  {
   "cell_type": "markdown",
   "metadata": {},
   "source": [
    "### Service Context"
   ]
  },
  {
   "cell_type": "markdown",
   "metadata": {},
   "source": [
    "- The service context container is a utility container for LlamaIndex index and query classes. The container contains the following objects that are commonly used for configuring every index and query, such as the LLM, the PromptHelper (for configuring input size/chunk size), the BaseEmbedding (for configuring the embedding model), and more.\n",
    "- Service Context Classes\n",
    "    1) Embeddings\n",
    "    2) OpenAIEmbedding\n",
    "    3) HuggingFaceEmbedding\n",
    "    4) OptimumEmbedding\n",
    "    5) InstructorEmbedding\n",
    "    6) LangchainEmbedding\n",
    "    7) GoogleUnivSentEncoderEmbedding\n",
    "    8) Node Parser\n",
    "    9) PromptHelper\n",
    "    10) \n",
    "- **conclusion** -> for storing and indexing the vectors/embeddings......and to perform Similarity search opration on embedding w.r.t query to get most similar vector,,,,And passing it to specified LLM model to get fine tuned answer"
   ]
  },
  {
   "cell_type": "code",
   "execution_count": 15,
   "metadata": {},
   "outputs": [
    {
     "name": "stderr",
     "output_type": "stream",
     "text": [
      "C:\\Users\\shree\\AppData\\Local\\Temp\\ipykernel_20840\\1479180934.py:2: DeprecationWarning: Call to deprecated class method from_defaults. (ServiceContext is deprecated, please use `llama_index.settings.Settings` instead.) -- Deprecated since version 0.10.0.\n",
      "  service_context = ServiceContext.from_defaults(llm=gemini_pro_model , embed_model=gemini_embed_model , chunk_size=800 , chunk_overlap=20)\n"
     ]
    }
   ],
   "source": [
    "# Configure Service Context object\n",
    "service_context = ServiceContext.from_defaults(llm=gemini_pro_model , embed_model=gemini_embed_model , chunk_size=800 , chunk_overlap=20)"
   ]
  },
  {
   "cell_type": "code",
   "execution_count": 16,
   "metadata": {},
   "outputs": [],
   "source": [
    "index = VectorStoreIndex.from_documents(doc , service_context=service_context)#deviding our above data in to chunk,,then each chunk is vectorized,,and stored in index.."
   ]
  },
  {
   "cell_type": "markdown",
   "metadata": {},
   "source": [
    "- first chunk is accessed -> pass it to embedding model(google_embedding_model)ie;models/text-embedding-004 -> it will return single vector/embedding with 768 dimensions -> and finally this vector/embedding for this chunk and this actual chunk(in text format) as meta data is going to store in index object,,,which is VectorStore DB,,,,,,,\n",
    "- same for all remaining chunks\n",
    "- Why we are storing chunks(text) along with there vectors/embedding ?\n",
    "- bcz,,when you query something,,,then ,,that query (obviously it is string/text) will first converted to vector/embedding -> passed to this vectordb (index) for similarity match -> and return most similar vector present in index(vectorstore db) with query vector -> It will not return that vector/embedding,,instead return respective chunk to that vector.............\n",
    "- bcz ,,we have aggregated the words of chunks to get single vector for chunk,,,,,,,,,,,this process is irreversible,,,,,from this vector your cant get actual chunk,,,,,(only,,word to vector and vector to word is possible),,,,,,,vector of the chuk cant be converted back to actual chunk..bcz after aggregating all word's repective vector to get single vector representing chunk,we lose info,,that what are the words,,so\n",
    "\n",
    "- After returning this chunk,,,(as u see in servicecontext,, chunk contains approx 800 words/tokens in it after splitting/partition),,,we want specific info from this w.r.t question,,so to refine the response according to query,,we pass this chunk ,query to specified LLM,,and we get refined or specif answer/response\n",
    "\n",
    "- **Conclusion**-> Vector/embeddings are just for representing each chunk and perform similaity search and other vector operation on it,,to get desired vector,,,,,,,,,,,but we cant understand this vector,,,so we store ,,chun(text) along with its vector form..........so while retrieving,,we getjust chunk,,,,and performing similarity search we need just vector."
   ]
  },
  {
   "cell_type": "code",
   "execution_count": 26,
   "metadata": {},
   "outputs": [
    {
     "data": {
      "text/plain": [
       "<llama_index.core.indices.vector_store.base.VectorStoreIndex at 0x1e3ea59f150>"
      ]
     },
     "execution_count": 26,
     "metadata": {},
     "output_type": "execute_result"
    }
   ],
   "source": [
    "index"
   ]
  },
  {
   "cell_type": "code",
   "execution_count": 17,
   "metadata": {},
   "outputs": [],
   "source": [
    "#To persist this embeddings/vector of each chunk\n",
    "index.storage_context.persist()\n",
    "#as u see,,storage is created,,which is local vetor DB,,bcz we have not mention any remote db api_key..........if u  mention pinecone or any other cloud based vector db api_key,,then these vectors are transfeered to that DB....\n",
    "#inside this storage folder......you see lot of meta data..............but you cant see our embeddings related to ML_Wikipedia\n",
    "#bcz it is stored in SQLLite,,,,,,in binary obj,so you just access/retrieve chun(text) w.r.t vector,,,u can't see these vectros/embeddings for each chunk,,,as u see in pinecone Db"
   ]
  },
  {
   "cell_type": "code",
   "execution_count": 28,
   "metadata": {},
   "outputs": [],
   "source": [
    "#see this storage folder,,and try to inerpret it."
   ]
  },
  {
   "cell_type": "markdown",
   "metadata": {},
   "source": [
    "## 7) Query on Vector store ie; Questioning some data from ML_Wikipedia file to vectorstoe(index),,QUERY ON DOCUMENT Given document"
   ]
  },
  {
   "cell_type": "markdown",
   "metadata": {},
   "source": [
    "- We have given just ML_Wikipedia.txt file,,,,see in Data folder,,,we have just this file,,,and thus just this file is partioned to chunk -> converted to embedding/vector for each chunk and stored in index..\n",
    "- you can add more files,,related to your use case,,,\n",
    "- **So you can query/question related to this ML_Wikpedia file only,,,,,,,,,,,,,,,,,you cant query other things which are not present in this file**"
   ]
  },
  {
   "cell_type": "markdown",
   "metadata": {},
   "source": [
    "#### Q1)Querying based on stored document (ML_Wikipedia)"
   ]
  },
  {
   "cell_type": "code",
   "execution_count": 18,
   "metadata": {},
   "outputs": [],
   "source": [
    "query_engine = index.as_query_engine()"
   ]
  },
  {
   "cell_type": "code",
   "execution_count": 19,
   "metadata": {},
   "outputs": [],
   "source": [
    "response = query_engine.query(\"Which Machine Learning Model we Use in Data Compression?\")"
   ]
  },
  {
   "cell_type": "code",
   "execution_count": 20,
   "metadata": {},
   "outputs": [
    {
     "data": {
      "text/plain": [
       "Response(response='K-means clustering', source_nodes=[NodeWithScore(node=TextNode(id_='c7ac529a-8575-4fd2-be85-1ef03c6ebeb5', embedding=None, metadata={'file_path': 'd:\\\\GENERATIVE-AI\\\\007_Projects\\\\002_QA_System_Using_Llama_Index_And_Gemini\\\\notebook\\\\..\\\\Data\\\\ML_Wikipedia.txt', 'file_name': 'ML_Wikipedia.txt', 'file_type': 'text/plain', 'file_size': 12283, 'creation_date': '2024-07-31', 'last_modified_date': '2024-07-31'}, excluded_embed_metadata_keys=['file_name', 'file_type', 'file_size', 'creation_date', 'last_modified_date', 'last_accessed_date'], excluded_llm_metadata_keys=['file_name', 'file_type', 'file_size', 'creation_date', 'last_modified_date', 'last_accessed_date'], relationships={<NodeRelationship.SOURCE: '1'>: RelatedNodeInfo(node_id='458acf2b-1243-4798-b6bd-8ef62822e80f', node_type=<ObjectType.DOCUMENT: '4'>, metadata={'file_path': 'd:\\\\GENERATIVE-AI\\\\007_Projects\\\\002_QA_System_Using_Llama_Index_And_Gemini\\\\notebook\\\\..\\\\Data\\\\ML_Wikipedia.txt', 'file_name': 'ML_Wikipedia.txt', 'file_type': 'text/plain', 'file_size': 12283, 'creation_date': '2024-07-31', 'last_modified_date': '2024-07-31'}, hash='9175a95ec1659f74c499df60159e746949b7fe535a18c4f9e4086e6fd7e60a34'), <NodeRelationship.PREVIOUS: '2'>: RelatedNodeInfo(node_id='b02ea8e1-fca9-49b6-8dcb-dbf1409ceb5a', node_type=<ObjectType.TEXT: '1'>, metadata={'file_path': 'd:\\\\GENERATIVE-AI\\\\007_Projects\\\\002_QA_System_Using_Llama_Index_And_Gemini\\\\notebook\\\\..\\\\Data\\\\ML_Wikipedia.txt', 'file_name': 'ML_Wikipedia.txt', 'file_type': 'text/plain', 'file_size': 12283, 'creation_date': '2024-07-31', 'last_modified_date': '2024-07-31'}, hash='e0a14f2b06698bfdd8fa1e149872943ae2cc30fd61e61d8624bc317880096971'), <NodeRelationship.NEXT: '3'>: RelatedNodeInfo(node_id='e417d6ec-6c91-41e5-8c05-3e88b241d6af', node_type=<ObjectType.TEXT: '1'>, metadata={}, hash='57b40b3e1d19a40bf29c21291f794e2b6ad53cb83e069160b8d79012ac3f00e9')}, text='Examples of AI-powered audio/video compression software include NVIDIA Maxine, AIVC.[29] Examples of software that can perform AI-powered image compression include OpenCV, TensorFlow, MATLAB\\'s Image Processing Toolbox (IPT) and High-Fidelity Generative Image Compression.[30]\\r\\n\\r\\nIn unsupervised machine learning, k-means clustering can be utilized to compress data by grouping similar data points into clusters. This technique simplifies handling extensive datasets that lack predefined labels and finds widespread use in fields such as image compression.[31]\\r\\n\\r\\nData compression aims to reduce the size of data files, enhancing storage efficiency and speeding up data transmission. K-means clustering, an unsupervised machine learning algorithm, is employed to partition a dataset into a specified number of clusters, k, each represented by the centroid of its points. This process condenses extensive datasets into a more compact set of representative points. Particularly beneficial in image and signal processing, k-means clustering aids in data reduction by replacing groups of data points with their centroids, thereby preserving the core information of the original data while significantly decreasing the required storage space.[32]\\r\\n\\r\\nLarge language models (LLMs) are also capable of lossless data compression, as demonstrated by DeepMind\\'s research with the Chinchilla 70B model. Developed by DeepMind, Chinchilla 70B effectively compressed data, outperforming conventional methods such as Portable Network Graphics (PNG) for images and Free Lossless Audio Codec (FLAC) for audio. It achieved compression of image and audio data to 43.4% and 16.4% of their original sizes, respectively.[33]\\r\\n\\r\\nData mining\\r\\nMachine learning and data mining often employ the same methods and overlap significantly, but while machine learning focuses on prediction, based on known properties learned from the training data, data mining focuses on the discovery of (previously) unknown properties in the data (this is the analysis step of knowledge discovery in databases). Data mining uses many machine learning methods, but with different goals; on the other hand, machine learning also employs data mining methods as \"unsupervised learning\" or as a preprocessing step to improve learner accuracy. Much of the confusion between these two research communities (which do often have separate conferences and separate journals, ECML PKDD being a major exception) comes from the basic assumptions they work with: in machine learning, performance is usually evaluated with respect to the ability to reproduce known knowledge, while in knowledge discovery and data mining (KDD) the key task is the discovery of previously unknown knowledge. Evaluated with respect to known knowledge, an uninformed (unsupervised) method will easily be outperformed by other supervised methods, while in a typical KDD task, supervised methods cannot be used due to the unavailability of training data.\\r\\n\\r\\nMachine learning also has intimate ties to optimization: Many learning problems are formulated as minimization of some loss function on a training set of examples. Loss functions express the discrepancy between the predictions of the model being trained and the actual problem instances (for example, in classification, one wants to assign a label to instances, and models are trained to correctly predict the preassigned labels of a set of examples).[34]\\r\\n\\r\\n\\r\\nMachine learning and statistics are closely related fields in terms of methods, but distinct in their principal goal: statistics draws population inferences from a sample, while machine learning finds generalizable predictive patterns.[35] According to Michael I. Jordan, the ideas of machine learning, from methodological principles to theoretical tools, have had a long pre-history in statistics.[36] He also suggested the term data science as a placeholder to call the overall field.', mimetype='text/plain', start_char_idx=7522, end_char_idx=11441, text_template='{metadata_str}\\n\\n{content}', metadata_template='{key}: {value}', metadata_seperator='\\n'), score=0.8057951577613812), NodeWithScore(node=TextNode(id_='b02ea8e1-fca9-49b6-8dcb-dbf1409ceb5a', embedding=None, metadata={'file_path': 'd:\\\\GENERATIVE-AI\\\\007_Projects\\\\002_QA_System_Using_Llama_Index_And_Gemini\\\\notebook\\\\..\\\\Data\\\\ML_Wikipedia.txt', 'file_name': 'ML_Wikipedia.txt', 'file_type': 'text/plain', 'file_size': 12283, 'creation_date': '2024-07-31', 'last_modified_date': '2024-07-31'}, excluded_embed_metadata_keys=['file_name', 'file_type', 'file_size', 'creation_date', 'last_modified_date', 'last_accessed_date'], excluded_llm_metadata_keys=['file_name', 'file_type', 'file_size', 'creation_date', 'last_modified_date', 'last_accessed_date'], relationships={<NodeRelationship.SOURCE: '1'>: RelatedNodeInfo(node_id='458acf2b-1243-4798-b6bd-8ef62822e80f', node_type=<ObjectType.DOCUMENT: '4'>, metadata={'file_path': 'd:\\\\GENERATIVE-AI\\\\007_Projects\\\\002_QA_System_Using_Llama_Index_And_Gemini\\\\notebook\\\\..\\\\Data\\\\ML_Wikipedia.txt', 'file_name': 'ML_Wikipedia.txt', 'file_type': 'text/plain', 'file_size': 12283, 'creation_date': '2024-07-31', 'last_modified_date': '2024-07-31'}, hash='9175a95ec1659f74c499df60159e746949b7fe535a18c4f9e4086e6fd7e60a34'), <NodeRelationship.PREVIOUS: '2'>: RelatedNodeInfo(node_id='3d7d977d-362f-41fc-b74b-07849121f7e2', node_type=<ObjectType.TEXT: '1'>, metadata={'file_path': 'd:\\\\GENERATIVE-AI\\\\007_Projects\\\\002_QA_System_Using_Llama_Index_And_Gemini\\\\notebook\\\\..\\\\Data\\\\ML_Wikipedia.txt', 'file_name': 'ML_Wikipedia.txt', 'file_type': 'text/plain', 'file_size': 12283, 'creation_date': '2024-07-31', 'last_modified_date': '2024-07-31'}, hash='13397e7c369cbe8e9c591b7fe9b50653dd6f84cbf0333c8a5f139bdfdd42a936'), <NodeRelationship.NEXT: '3'>: RelatedNodeInfo(node_id='c7ac529a-8575-4fd2-be85-1ef03c6ebeb5', node_type=<ObjectType.TEXT: '1'>, metadata={}, hash='6a92e8bfdf6db99e1ec966e77fad60cd5c84a286830ac7c1b697f0cb92b4dfa6')}, text='This follows Alan Turing\\'s proposal in his paper \"Computing Machinery and Intelligence\", in which the question \"Can machines think?\" is replaced with the question \"Can machines do what we (as thinking entities) can do?\".[19]\\r\\n\\r\\nAs a scientific endeavor, machine learning grew out of the quest for artificial intelligence (AI). In the early days of AI as an academic discipline, some researchers were interested in having machines learn from data. They attempted to approach the problem with various symbolic methods, as well as what were then termed \"neural networks\"; these were mostly perceptrons and other models that were later found to be reinventions of the generalized linear models of statistics.[22] Probabilistic reasoning was also employed, especially in automated medical diagnosis.[23]:\\u200a488\\u200a\\r\\n\\r\\nHowever, an increasing emphasis on the logical, knowledge-based approach caused a rift between AI and machine learning. Probabilistic systems were plagued by theoretical and practical problems of data acquisition and representation.[23]:\\u200a488\\u200a By 1980, expert systems had come to dominate AI, and statistics was out of favor.[24] Work on symbolic/knowledge-based learning did continue within AI, leading to inductive logic programming(ILP), but the more statistical line of research was now outside the field of AI proper, in pattern recognition and information retrieval.[23]:\\u200a708–710,\\u200a755\\u200a Neural networks research had been abandoned by AI and computer science around the same time. This line, too, was continued outside the AI/CS field, as \"connectionism\", by researchers from other disciplines including Hopfield, Rumelhart, and Hinton. Their main success came in the mid-1980s with the reinvention of backpropagation.[23]:\\u200a25\\u200a\\r\\n\\r\\nMachine learning (ML), reorganized and recognized as its own field, started to flourish in the 1990s. The field changed its goal from achieving artificial intelligence to tackling solvable problems of a practical nature. It shifted focus away from the symbolic approaches it had inherited from AI, and toward methods and models borrowed from statistics, fuzzy logic, and probability theory.[24]\\r\\n\\r\\nData compression\\r\\nThis section is an excerpt from Data compression § Machine learning.[edit]\\r\\nThere is a close connection between machine learning and compression. A system that predicts the posterior probabilities of a sequence given its entire history can be used for optimal data compression (by using arithmetic coding on the output distribution). Conversely, an optimal compressor can be used for prediction (by finding the symbol that compresses best, given the previous history). This equivalence has been used as a justification for using data compression as a benchmark for \"general intelligence\".[25][26][27]\\r\\n\\r\\nAn alternative view can show compression algorithms implicitly map strings into implicit feature space vectors, and compression-based similarity measures compute similarity within these feature spaces. For each compressor C(.) we define an associated vector space ℵ, such that C(.) maps an input string x, corresponding to the vector norm ||~x||. An exhaustive examination of the feature spaces underlying all compression algorithms is precluded by space; instead, feature vectors chooses to examine three representative lossless compression methods, LZW, LZ77, and PPM.[28]\\r\\n\\r\\nAccording to AIXI theory, a connection more directly explained in Hutter Prize, the best possible compression of x is the smallest possible software that generates x. For example, in that model, a zip file\\'s compressed size includes both the zip file and the unzipping software, since you can not unzip it without both, but there may be an even smaller combined form.', mimetype='text/plain', start_char_idx=3811, end_char_idx=7518, text_template='{metadata_str}\\n\\n{content}', metadata_template='{key}: {value}', metadata_seperator='\\n'), score=0.7668173682277144)], metadata={'c7ac529a-8575-4fd2-be85-1ef03c6ebeb5': {'file_path': 'd:\\\\GENERATIVE-AI\\\\007_Projects\\\\002_QA_System_Using_Llama_Index_And_Gemini\\\\notebook\\\\..\\\\Data\\\\ML_Wikipedia.txt', 'file_name': 'ML_Wikipedia.txt', 'file_type': 'text/plain', 'file_size': 12283, 'creation_date': '2024-07-31', 'last_modified_date': '2024-07-31'}, 'b02ea8e1-fca9-49b6-8dcb-dbf1409ceb5a': {'file_path': 'd:\\\\GENERATIVE-AI\\\\007_Projects\\\\002_QA_System_Using_Llama_Index_And_Gemini\\\\notebook\\\\..\\\\Data\\\\ML_Wikipedia.txt', 'file_name': 'ML_Wikipedia.txt', 'file_type': 'text/plain', 'file_size': 12283, 'creation_date': '2024-07-31', 'last_modified_date': '2024-07-31'}})"
      ]
     },
     "execution_count": 20,
     "metadata": {},
     "output_type": "execute_result"
    }
   ],
   "source": [
    "response "
   ]
  },
  {
   "cell_type": "code",
   "execution_count": 21,
   "metadata": {},
   "outputs": [
    {
     "data": {
      "text/plain": [
       "'K-means clustering'"
      ]
     },
     "execution_count": 21,
     "metadata": {},
     "output_type": "execute_result"
    }
   ],
   "source": [
    "response.response #print(response)\n",
    "#Read,,,,,,ML_Wikipedia file,,,in data compression part,,,you see,,correct answer is KNN.............\n",
    "#This is power Of RAG"
   ]
  },
  {
   "cell_type": "markdown",
   "metadata": {},
   "source": [
    "- See text field from response,,this is resposne we got from vectorDb (index),,based on similarity score b/n query vector and store vector.......as we discussed,we got complete chunk w.r.t to matched vector\n",
    "- this chunk/text contains approx 800 words,,,and this chunk contains our answer,,but we have to do manuall work or read this text to get specific answer w.r.t our question,,,,,,which is difficult task when we deal with large chunk_size's,,,,,,,,\n",
    "- **Recoomened Way**-> Pass this retrieved text/chunk to any LLM(not passing vector,,see diagram of RAG in book) along with query,,and then llm will extract particulr data from this text w.r.t query/question and thus return specific answer.....**This Process is Called RAG**\n"
   ]
  },
  {
   "cell_type": "markdown",
   "metadata": {},
   "source": [
    "#### Q2) Query which is not based on stored document (ML_Wikipedia)...ie;which is irrelevant to passed/stored/used document (ML_wikipedia)"
   ]
  },
  {
   "cell_type": "code",
   "execution_count": 41,
   "metadata": {},
   "outputs": [],
   "source": [
    "response2 = query_engine.query(\"Who is Mahendr singh dhoni?\")"
   ]
  },
  {
   "cell_type": "code",
   "execution_count": 43,
   "metadata": {},
   "outputs": [
    {
     "data": {
      "text/plain": [
       "Response(response='The provided context does not mention Mahendr Singh Dhoni, so I cannot answer this question from the provided context.', source_nodes=[NodeWithScore(node=TextNode(id_='f70488d8-3e2c-442c-8c2a-85f02a5c59c1', embedding=None, metadata={'file_path': 'd:\\\\GENERATIVE-AI\\\\007_Projects\\\\002_QA_System_Using_Llama_Index_And_Gemini\\\\notebook\\\\..\\\\Data\\\\ML_Wikipedia.txt', 'file_name': 'ML_Wikipedia.txt', 'file_type': 'text/plain', 'file_size': 12283, 'creation_date': '2024-07-31', 'last_modified_date': '2024-07-31'}, excluded_embed_metadata_keys=['file_name', 'file_type', 'file_size', 'creation_date', 'last_modified_date', 'last_accessed_date'], excluded_llm_metadata_keys=['file_name', 'file_type', 'file_size', 'creation_date', 'last_modified_date', 'last_accessed_date'], relationships={<NodeRelationship.SOURCE: '1'>: RelatedNodeInfo(node_id='19e331ad-4f73-475f-8ec3-a039c9cbe94d', node_type=<ObjectType.DOCUMENT: '4'>, metadata={'file_path': 'd:\\\\GENERATIVE-AI\\\\007_Projects\\\\002_QA_System_Using_Llama_Index_And_Gemini\\\\notebook\\\\..\\\\Data\\\\ML_Wikipedia.txt', 'file_name': 'ML_Wikipedia.txt', 'file_type': 'text/plain', 'file_size': 12283, 'creation_date': '2024-07-31', 'last_modified_date': '2024-07-31'}, hash='9175a95ec1659f74c499df60159e746949b7fe535a18c4f9e4086e6fd7e60a34'), <NodeRelationship.PREVIOUS: '2'>: RelatedNodeInfo(node_id='9ca25950-0913-4283-bec9-253a0104963a', node_type=<ObjectType.TEXT: '1'>, metadata={'file_path': 'd:\\\\GENERATIVE-AI\\\\007_Projects\\\\002_QA_System_Using_Llama_Index_And_Gemini\\\\notebook\\\\..\\\\Data\\\\ML_Wikipedia.txt', 'file_name': 'ML_Wikipedia.txt', 'file_type': 'text/plain', 'file_size': 12283, 'creation_date': '2024-07-31', 'last_modified_date': '2024-07-31'}, hash='13397e7c369cbe8e9c591b7fe9b50653dd6f84cbf0333c8a5f139bdfdd42a936'), <NodeRelationship.NEXT: '3'>: RelatedNodeInfo(node_id='c0e7963c-25f9-4216-bc24-eb2d378d25bd', node_type=<ObjectType.TEXT: '1'>, metadata={}, hash='6a92e8bfdf6db99e1ec966e77fad60cd5c84a286830ac7c1b697f0cb92b4dfa6')}, text='This follows Alan Turing\\'s proposal in his paper \"Computing Machinery and Intelligence\", in which the question \"Can machines think?\" is replaced with the question \"Can machines do what we (as thinking entities) can do?\".[19]\\r\\n\\r\\nAs a scientific endeavor, machine learning grew out of the quest for artificial intelligence (AI). In the early days of AI as an academic discipline, some researchers were interested in having machines learn from data. They attempted to approach the problem with various symbolic methods, as well as what were then termed \"neural networks\"; these were mostly perceptrons and other models that were later found to be reinventions of the generalized linear models of statistics.[22] Probabilistic reasoning was also employed, especially in automated medical diagnosis.[23]:\\u200a488\\u200a\\r\\n\\r\\nHowever, an increasing emphasis on the logical, knowledge-based approach caused a rift between AI and machine learning. Probabilistic systems were plagued by theoretical and practical problems of data acquisition and representation.[23]:\\u200a488\\u200a By 1980, expert systems had come to dominate AI, and statistics was out of favor.[24] Work on symbolic/knowledge-based learning did continue within AI, leading to inductive logic programming(ILP), but the more statistical line of research was now outside the field of AI proper, in pattern recognition and information retrieval.[23]:\\u200a708–710,\\u200a755\\u200a Neural networks research had been abandoned by AI and computer science around the same time. This line, too, was continued outside the AI/CS field, as \"connectionism\", by researchers from other disciplines including Hopfield, Rumelhart, and Hinton. Their main success came in the mid-1980s with the reinvention of backpropagation.[23]:\\u200a25\\u200a\\r\\n\\r\\nMachine learning (ML), reorganized and recognized as its own field, started to flourish in the 1990s. The field changed its goal from achieving artificial intelligence to tackling solvable problems of a practical nature. It shifted focus away from the symbolic approaches it had inherited from AI, and toward methods and models borrowed from statistics, fuzzy logic, and probability theory.[24]\\r\\n\\r\\nData compression\\r\\nThis section is an excerpt from Data compression § Machine learning.[edit]\\r\\nThere is a close connection between machine learning and compression. A system that predicts the posterior probabilities of a sequence given its entire history can be used for optimal data compression (by using arithmetic coding on the output distribution). Conversely, an optimal compressor can be used for prediction (by finding the symbol that compresses best, given the previous history). This equivalence has been used as a justification for using data compression as a benchmark for \"general intelligence\".[25][26][27]\\r\\n\\r\\nAn alternative view can show compression algorithms implicitly map strings into implicit feature space vectors, and compression-based similarity measures compute similarity within these feature spaces. For each compressor C(.) we define an associated vector space ℵ, such that C(.) maps an input string x, corresponding to the vector norm ||~x||. An exhaustive examination of the feature spaces underlying all compression algorithms is precluded by space; instead, feature vectors chooses to examine three representative lossless compression methods, LZW, LZ77, and PPM.[28]\\r\\n\\r\\nAccording to AIXI theory, a connection more directly explained in Hutter Prize, the best possible compression of x is the smallest possible software that generates x. For example, in that model, a zip file\\'s compressed size includes both the zip file and the unzipping software, since you can not unzip it without both, but there may be an even smaller combined form.', mimetype='text/plain', start_char_idx=3811, end_char_idx=7518, text_template='{metadata_str}\\n\\n{content}', metadata_template='{key}: {value}', metadata_seperator='\\n'), score=0.48150413696553995), NodeWithScore(node=TextNode(id_='f4755b9f-bfd4-4b4a-badc-5571e932ce7b', embedding=None, metadata={'file_path': 'd:\\\\GENERATIVE-AI\\\\007_Projects\\\\002_QA_System_Using_Llama_Index_And_Gemini\\\\notebook\\\\..\\\\Data\\\\ML_Wikipedia.txt', 'file_name': 'ML_Wikipedia.txt', 'file_type': 'text/plain', 'file_size': 12283, 'creation_date': '2024-07-31', 'last_modified_date': '2024-07-31'}, excluded_embed_metadata_keys=['file_name', 'file_type', 'file_size', 'creation_date', 'last_modified_date', 'last_accessed_date'], excluded_llm_metadata_keys=['file_name', 'file_type', 'file_size', 'creation_date', 'last_modified_date', 'last_accessed_date'], relationships={<NodeRelationship.SOURCE: '1'>: RelatedNodeInfo(node_id='19e331ad-4f73-475f-8ec3-a039c9cbe94d', node_type=<ObjectType.DOCUMENT: '4'>, metadata={'file_path': 'd:\\\\GENERATIVE-AI\\\\007_Projects\\\\002_QA_System_Using_Llama_Index_And_Gemini\\\\notebook\\\\..\\\\Data\\\\ML_Wikipedia.txt', 'file_name': 'ML_Wikipedia.txt', 'file_type': 'text/plain', 'file_size': 12283, 'creation_date': '2024-07-31', 'last_modified_date': '2024-07-31'}, hash='9175a95ec1659f74c499df60159e746949b7fe535a18c4f9e4086e6fd7e60a34'), <NodeRelationship.PREVIOUS: '2'>: RelatedNodeInfo(node_id='c0e7963c-25f9-4216-bc24-eb2d378d25bd', node_type=<ObjectType.TEXT: '1'>, metadata={'file_path': 'd:\\\\GENERATIVE-AI\\\\007_Projects\\\\002_QA_System_Using_Llama_Index_And_Gemini\\\\notebook\\\\..\\\\Data\\\\ML_Wikipedia.txt', 'file_name': 'ML_Wikipedia.txt', 'file_type': 'text/plain', 'file_size': 12283, 'creation_date': '2024-07-31', 'last_modified_date': '2024-07-31'}, hash='04572e0931c4290e1a974a9616b31be837359a85946522415f220cdc73327f39')}, text='[36] He also suggested the term data science as a placeholder to call the overall field.[36]\\r\\n\\r\\nConventional statistical analyses require the a priori selection of a model most suitable for the study data set. In addition, only significant or theoretically relevant variables based on previous experience are included for analysis. In contrast, machine learning is not built on a pre-structured model; rather, the data shape the model by detecting underlying patterns. The more variables (input) used to train the model, the more accurate the ultimate model will be.[37]\\r\\n\\r\\nLeo Breiman distinguished two statistical modeling paradigms: data model and algorithmic model,[38] wherein \"algorithmic model\" means more or less the machine learning algorithms like Random Forest.\\r\\n\\r\\nSome statisticians have adopted methods from machine learning, leading to a combined field that they call statistical learning.[39]', mimetype='text/plain', start_char_idx=11353, end_char_idx=12260, text_template='{metadata_str}\\n\\n{content}', metadata_template='{key}: {value}', metadata_seperator='\\n'), score=0.4775984659174876)], metadata={'f70488d8-3e2c-442c-8c2a-85f02a5c59c1': {'file_path': 'd:\\\\GENERATIVE-AI\\\\007_Projects\\\\002_QA_System_Using_Llama_Index_And_Gemini\\\\notebook\\\\..\\\\Data\\\\ML_Wikipedia.txt', 'file_name': 'ML_Wikipedia.txt', 'file_type': 'text/plain', 'file_size': 12283, 'creation_date': '2024-07-31', 'last_modified_date': '2024-07-31'}, 'f4755b9f-bfd4-4b4a-badc-5571e932ce7b': {'file_path': 'd:\\\\GENERATIVE-AI\\\\007_Projects\\\\002_QA_System_Using_Llama_Index_And_Gemini\\\\notebook\\\\..\\\\Data\\\\ML_Wikipedia.txt', 'file_name': 'ML_Wikipedia.txt', 'file_type': 'text/plain', 'file_size': 12283, 'creation_date': '2024-07-31', 'last_modified_date': '2024-07-31'}})"
      ]
     },
     "execution_count": 43,
     "metadata": {},
     "output_type": "execute_result"
    }
   ],
   "source": [
    "response2"
   ]
  },
  {
   "cell_type": "code",
   "execution_count": 42,
   "metadata": {},
   "outputs": [
    {
     "data": {
      "text/plain": [
       "'The provided context does not mention Mahendr Singh Dhoni, so I cannot answer this question from the provided context.'"
      ]
     },
     "execution_count": 42,
     "metadata": {},
     "output_type": "execute_result"
    }
   ],
   "source": [
    "response2.response #print(response2)"
   ]
  },
  {
   "cell_type": "markdown",
   "metadata": {},
   "source": [
    "- We are not getting answer..................bcz,,we have passed and stored ML_Wikipedia.txt file in our application....and we stored the vectors or embedding for them in index(vectro store db)\n",
    "- An when you read this file carefully,,then you observe that this file not contain \"mahendr singh dhoni\" words or data related to msd,,,,,,,,\n",
    "- thus,vectorstore(index),,,doesnt have similar vectors w.r.t query vector,,,,,,,,,,,,thus similarity score of each strored vector with query vector is in negative....and return the the chunk whose equivavlent vector has more similarity score compare to other (by the way it is in negative,,tecnically,,no similar,,,,but returning most similar vector),,,and when ,,,query_engine pass this text/chunk and query to specified LLM(in our case it is gemini-pro),,,then that LLM will see,,this text and come to know that,,this chunk doesnt have answer to given query,,,,,,so it will return 'The provided context does not .......'............\n",
    "- **Note:** Here or in RAG system ,,role of LLM is just to refine/get specific info from passed chunk w.r.t query,,,,,,,,,,it will not provide answer by its own when it doesnt find any answer in passed chunk/text,,as it does while normal chating (like,,chatgpt,gemini application)\n",
    "- **Conclusion:** When query_engine will pass text and query to LLM,,,,LLM will analyze the text w.r.t query and return specific answer which is refined answer,,,,,,,,,,,,,,,,,,,in the case of failure in finding answer to query in given text,,it will simply return 'This provided....message',it will not give answer by itself...........................which is good thing.................we are getting only relevant info from our data,,,not from external sources..................\n",
    "- but if u want answer on failure case also,,then mention to LLM that,,if not get the answer then give answer according to your knowledge"
   ]
  },
  {
   "cell_type": "markdown",
   "metadata": {},
   "source": [
    "#### For Any question/query and text/chunk passed by query_engine to LLM,,LLM will see the passed chunk/text only to extract answers,,,if it finds then return it, else return 'not find in passed document'"
   ]
  },
  {
   "cell_type": "markdown",
   "metadata": {},
   "source": [
    "- This is our required experimentation,,,now we designed a rough software,,which align with our requiremnt functinality,,,,,,,,,now do modular coding and use OOP's to segrate the code according to there functionality, thus to increase readability,code managability, updation ..etc\n",
    "- then,, integrate these thing in our end-to-end application pipeline,,to get industry ready/deployment ready application"
   ]
  },
  {
   "cell_type": "markdown",
   "metadata": {},
   "source": [
    "- **bcz this vectorestore stores the data,,localy,so while deploying this app on web,,,we use ec2 instance and in its storage only,,we store the embeddings**"
   ]
  },
  {
   "cell_type": "code",
   "execution_count": null,
   "metadata": {},
   "outputs": [],
   "source": [
    "### ThankYou"
   ]
  }
 ],
 "metadata": {
  "kernelspec": {
   "display_name": "Python 3",
   "language": "python",
   "name": "python3"
  },
  "language_info": {
   "codemirror_mode": {
    "name": "ipython",
    "version": 3
   },
   "file_extension": ".py",
   "mimetype": "text/x-python",
   "name": "python",
   "nbconvert_exporter": "python",
   "pygments_lexer": "ipython3",
   "version": "3.11.9"
  }
 },
 "nbformat": 4,
 "nbformat_minor": 2
}
